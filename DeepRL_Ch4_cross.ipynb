{
 "cells": [
  {
   "cell_type": "markdown",
   "metadata": {},
   "source": [
    "# Deep RL hands-on by Maxim Lapan\n",
    "## Chapter 4 The Corss-Entropy Method\n",
    "\n",
    "* conda activate gym \n",
    " \n",
    "### Method step\n",
    "\n",
    "1. Play N number of episodes using our current model and environment.\n",
    "1. Calculate the total reward for every episode and decide on a reward boundary. Usually, we use some percentile of all rewards, such as 50th or 70th.\n",
    "1. Throw away all episodes with a reward below the boundary.\n",
    "1. Train on the remaining \"elite\" episodes using obervations as the input and issued actions as the desired outtput.\n",
    "1. Repeat from step 1 until we become satisfied with the result.\n",
    "\n",
    "## Cart pole"
   ]
  },
  {
   "cell_type": "code",
   "execution_count": 4,
   "metadata": {},
   "outputs": [],
   "source": [
    "import gym\n",
    "from collections import namedtuple\n",
    "import numpy as np\n",
    "import tensorflow as tf\n",
    "\n",
    "import torch\n",
    "import torch.nn as nn\n",
    "import torch.optim as optim\n",
    "import datetime"
   ]
  },
  {
   "cell_type": "code",
   "execution_count": 5,
   "metadata": {},
   "outputs": [],
   "source": [
    "# set hyperparameters\n",
    "HIDDEN_SIZE = 128\n",
    "BATCH_SIZE = 16\n",
    "PERCENTILE = 70"
   ]
  },
  {
   "cell_type": "code",
   "execution_count": 6,
   "metadata": {},
   "outputs": [],
   "source": [
    "# set basic neural net module with FC layer and ReLU\n",
    "class Net(nn.Module):\n",
    "    def __init__(self, obs_size, hidden_size, n_actions):\n",
    "        super(Net, self).__init__()\n",
    "        self.net = nn.Sequential(\n",
    "            nn.Linear(obs_size, hidden_size),\n",
    "            nn.ReLU(),\n",
    "            nn.Linear(hidden_size, n_actions)\n",
    "        )\n",
    "\n",
    "    def forward(self, x):\n",
    "        return self.net(x)\n"
   ]
  },
  {
   "cell_type": "code",
   "execution_count": 7,
   "metadata": {},
   "outputs": [],
   "source": [
    "Episode = namedtuple('Episode', field_names=['reward', 'steps'])\n",
    "EpisodeStep = namedtuple('EpisodeStep', field_names=['observation', 'action'])"
   ]
  },
  {
   "cell_type": "code",
   "execution_count": 8,
   "metadata": {},
   "outputs": [],
   "source": [
    "def iterate_batches(env, net, batch_size):\n",
    "    batch = []\n",
    "    episode_reward = 0.0\n",
    "    episode_steps = []\n",
    "    obs = env.reset()\n",
    "    sm = nn.Softmax(dim=0) # below the input obs has no [], I use dim=0 instead of dim=1 in the original code\n",
    "    while True:\n",
    "        obs_v = torch.FloatTensor(obs) # original code use [obs], but I deleted it. \n",
    "        # If you use [obs], the output data will be also embraced with [], like [[0.9, 0.1]]\n",
    "        act_probs_v = sm(net(obs_v))\n",
    "        act_probs = act_probs_v.data.numpy() # I deleted [0], there is no additional dimension in the output.\n",
    "        action = np.random.choice(len(act_probs), p=act_probs)\n",
    "        next_obs, reward, is_done, _ = env.step(action)\n",
    "        episode_reward += reward\n",
    "        episode_steps.append(EpisodeStep(observation=obs, action=action))\n",
    "        if is_done:\n",
    "            batch.append(Episode(reward=episode_reward, steps=episode_steps))\n",
    "            episode_reward = 0.0\n",
    "            episode_steps = []\n",
    "            next_obs = env.reset()\n",
    "            if len(batch) == batch_size:\n",
    "                yield batch\n",
    "                batch = []\n",
    "        obs = next_obs"
   ]
  },
  {
   "cell_type": "code",
   "execution_count": 9,
   "metadata": {},
   "outputs": [],
   "source": [
    "def filter_batch(batch, percentile):\n",
    "    rewards = list(map(lambda s: s.reward, batch))\n",
    "    reward_bound = np.percentile(rewards, percentile)\n",
    "    reward_mean = float(np.mean(rewards))\n",
    "\n",
    "    train_obs = []\n",
    "    train_act = []\n",
    "    for example in batch:\n",
    "        if example.reward < reward_bound:\n",
    "            continue # forward to next iter.\n",
    "        train_obs.extend(map(lambda step: step.observation, example.steps))\n",
    "        train_act.extend(map(lambda step: step.action, example.steps))\n",
    "\n",
    "    train_obs_v = torch.FloatTensor(train_obs)\n",
    "    train_act_v = torch.LongTensor(train_act)\n",
    "    return train_obs_v, train_act_v, reward_bound, reward_mean"
   ]
  },
  {
   "cell_type": "code",
   "execution_count": 10,
   "metadata": {},
   "outputs": [],
   "source": [
    "env = gym.make(\"CartPole-v0\")\n",
    "# env = gym.wrappers.Monitor(env, directory=\"recording1_cartpole_cross\", force=True) # if you wanna record the video\n",
    "obs_size = env.observation_space.shape[0]\n",
    "n_actions = env.action_space.n"
   ]
  },
  {
   "cell_type": "code",
   "execution_count": 11,
   "metadata": {},
   "outputs": [
    {
     "name": "stdout",
     "output_type": "stream",
     "text": [
      "0: loss=0.694, reward_mean=28.9, reward_bound=27.5\n",
      "1: loss=0.684, reward_mean=24.3, reward_bound=30.5\n",
      "2: loss=0.668, reward_mean=25.1, reward_bound=31.5\n",
      "3: loss=0.672, reward_mean=26.6, reward_bound=24.5\n",
      "4: loss=0.646, reward_mean=38.5, reward_bound=32.0\n",
      "5: loss=0.636, reward_mean=42.3, reward_bound=52.0\n",
      "6: loss=0.621, reward_mean=45.1, reward_bound=55.5\n",
      "7: loss=0.630, reward_mean=50.1, reward_bound=58.0\n",
      "8: loss=0.611, reward_mean=58.2, reward_bound=71.0\n",
      "9: loss=0.611, reward_mean=43.9, reward_bound=48.0\n",
      "10: loss=0.602, reward_mean=47.8, reward_bound=43.5\n",
      "11: loss=0.594, reward_mean=72.3, reward_bound=99.0\n",
      "12: loss=0.583, reward_mean=46.4, reward_bound=44.0\n",
      "13: loss=0.571, reward_mean=58.4, reward_bound=69.0\n",
      "14: loss=0.577, reward_mean=74.5, reward_bound=81.5\n",
      "15: loss=0.573, reward_mean=58.6, reward_bound=59.0\n",
      "16: loss=0.574, reward_mean=56.9, reward_bound=59.5\n",
      "17: loss=0.553, reward_mean=65.2, reward_bound=72.0\n",
      "18: loss=0.565, reward_mean=65.1, reward_bound=80.5\n",
      "19: loss=0.551, reward_mean=78.8, reward_bound=84.5\n",
      "20: loss=0.561, reward_mean=74.1, reward_bound=88.5\n",
      "21: loss=0.528, reward_mean=66.2, reward_bound=70.5\n",
      "22: loss=0.541, reward_mean=84.5, reward_bound=91.0\n",
      "23: loss=0.541, reward_mean=67.7, reward_bound=76.0\n",
      "24: loss=0.535, reward_mean=74.3, reward_bound=88.0\n",
      "25: loss=0.537, reward_mean=75.6, reward_bound=91.0\n",
      "26: loss=0.528, reward_mean=81.7, reward_bound=95.5\n",
      "27: loss=0.529, reward_mean=76.1, reward_bound=87.0\n",
      "28: loss=0.530, reward_mean=85.3, reward_bound=96.5\n",
      "29: loss=0.525, reward_mean=89.4, reward_bound=91.0\n",
      "30: loss=0.495, reward_mean=98.2, reward_bound=105.0\n",
      "31: loss=0.538, reward_mean=91.6, reward_bound=87.5\n",
      "32: loss=0.513, reward_mean=102.0, reward_bound=121.5\n",
      "33: loss=0.499, reward_mean=98.9, reward_bound=100.0\n",
      "34: loss=0.503, reward_mean=96.8, reward_bound=117.0\n",
      "35: loss=0.508, reward_mean=115.0, reward_bound=132.5\n",
      "36: loss=0.506, reward_mean=127.7, reward_bound=146.0\n",
      "37: loss=0.507, reward_mean=128.8, reward_bound=153.5\n",
      "38: loss=0.529, reward_mean=146.8, reward_bound=190.0\n",
      "39: loss=0.506, reward_mean=185.4, reward_bound=200.0\n",
      "40: loss=0.506, reward_mean=180.6, reward_bound=200.0\n",
      "41: loss=0.502, reward_mean=187.0, reward_bound=200.0\n",
      "42: loss=0.507, reward_mean=186.7, reward_bound=200.0\n",
      "43: loss=0.508, reward_mean=193.9, reward_bound=200.0\n",
      "44: loss=0.503, reward_mean=172.8, reward_bound=200.0\n",
      "45: loss=0.500, reward_mean=194.4, reward_bound=200.0\n",
      "46: loss=0.492, reward_mean=185.1, reward_bound=200.0\n",
      "47: loss=0.503, reward_mean=194.9, reward_bound=200.0\n",
      "48: loss=0.493, reward_mean=187.2, reward_bound=200.0\n",
      "49: loss=0.498, reward_mean=194.1, reward_bound=200.0\n",
      "50: loss=0.502, reward_mean=200.0, reward_bound=200.0\n",
      "Solved!\n"
     ]
    }
   ],
   "source": [
    "net = Net(obs_size, HIDDEN_SIZE, n_actions)\n",
    "objective = nn.CrossEntropyLoss()\n",
    "optimizer = optim.Adam(params=net.parameters(), lr=0.01)\n",
    "current_time = datetime.datetime.now().strftime(\"%Y%m%d-%H%M%S\") # it's convenient to record the date with current time\n",
    "LOGDIR = './tmp/cross_entroy/cartpole/' + current_time + '/' \n",
    "writer = tf.summary.create_file_writer(LOGDIR) # tf 2.0 has changed the modules of tensorboard\n",
    "for iter_no, batch in enumerate(iterate_batches(env, net, BATCH_SIZE)):\n",
    "    obs_v, acts_v, reward_b, reward_m = filter_batch(batch, PERCENTILE)\n",
    "    optimizer.zero_grad()\n",
    "    action_scores_v = net(obs_v)\n",
    "    loss_v = objective(action_scores_v, acts_v)\n",
    "    loss_v.backward()\n",
    "    optimizer.step()\n",
    "    print(\"%d: loss=%.3f, reward_mean=%.1f, reward_bound=%.1f\" % (\n",
    "        iter_no, loss_v.item(), reward_m, reward_b))\n",
    "    with writer.as_default():\n",
    "        tf.summary.scalar(\"loss\", loss_v.item(), iter_no)\n",
    "        tf.summary.scalar(\"reward_bound\", reward_b, iter_no)\n",
    "        tf.summary.scalar(\"reward_mean\", reward_m, iter_no)\n",
    "    if reward_m > 199:\n",
    "        print(\"Solved!\")\n",
    "        break"
   ]
  },
  {
   "cell_type": "markdown",
   "metadata": {},
   "source": [
    "## Frozen Lake"
   ]
  },
  {
   "cell_type": "code",
   "execution_count": 12,
   "metadata": {},
   "outputs": [
    {
     "name": "stdout",
     "output_type": "stream",
     "text": [
      "Discrete(16)\n",
      "Discrete(4)\n",
      "\n",
      "\u001b[41mS\u001b[0mFFF\n",
      "FHFH\n",
      "FFFH\n",
      "HFFG\n"
     ]
    }
   ],
   "source": [
    "e = gym.make(\"FrozenLake-v0\")\n",
    "print(e.observation_space)\n",
    "print(e.action_space)\n",
    "e.reset()\n",
    "e.render()"
   ]
  },
  {
   "cell_type": "code",
   "execution_count": 13,
   "metadata": {},
   "outputs": [],
   "source": [
    "# use same hyperparameter, Net module, Episode tuple of cart pole agent\n",
    "# use same function of iterate batch and filter batch too.\n",
    "class DiscreteOneHotWrapper(gym.ObservationWrapper):\n",
    "    def __init__(self, env):\n",
    "        super(DiscreteOneHotWrapper, self).__init__(env)\n",
    "        assert isinstance(env.observation_space, gym.spaces.Discrete)\n",
    "        self.observation_space = gym.spaces.Box(0.0, 1.0, (env.observation_space.n, ), dtype=np.float32)\n",
    "\n",
    "    def observation(self, observation):\n",
    "        res = np.copy(self.observation_space.low) # return 1d array with 16 elements of zero\n",
    "        res[observation] = 1.0 # make 1.0 at the observed space in the frozen lake. \n",
    "        return res\n",
    "# because the observation space of lake is discrete, not like cart pole. "
   ]
  },
  {
   "cell_type": "code",
   "execution_count": 14,
   "metadata": {},
   "outputs": [],
   "source": [
    "env = DiscreteOneHotWrapper(gym.make(\"FrozenLake-v0\"))\n",
    "# env = gym.wrappers.Monitor(env, directory=\"mon\", force=True)\n",
    "obs_size = env.observation_space.shape[0]\n",
    "n_actions = env.action_space.n"
   ]
  },
  {
   "cell_type": "code",
   "execution_count": 15,
   "metadata": {},
   "outputs": [
    {
     "name": "stdout",
     "output_type": "stream",
     "text": [
      "0: loss=1.385, reward_mean=0.0, reward_bound=0.0\n",
      "50: loss=1.040, reward_mean=0.0, reward_bound=0.0\n",
      "100: loss=1.122, reward_mean=0.1, reward_bound=0.0\n",
      "150: loss=0.492, reward_mean=0.0, reward_bound=0.0\n",
      "200: loss=0.026, reward_mean=0.0, reward_bound=0.0\n",
      "250: loss=0.034, reward_mean=0.0, reward_bound=0.0\n",
      "300: loss=0.001, reward_mean=0.0, reward_bound=0.0\n",
      "350: loss=0.000, reward_mean=0.0, reward_bound=0.0\n",
      "400: loss=0.000, reward_mean=0.0, reward_bound=0.0\n",
      "450: loss=0.000, reward_mean=0.0, reward_bound=0.0\n",
      "500: loss=0.000, reward_mean=0.0, reward_bound=0.0\n"
     ]
    }
   ],
   "source": [
    "net = Net(obs_size, HIDDEN_SIZE, n_actions)\n",
    "objective = nn.CrossEntropyLoss()\n",
    "optimizer = optim.Adam(params=net.parameters(), lr=0.01)\n",
    "current_time = datetime.datetime.now().strftime(\"%Y%m%d-%H%M%S\") # it's convenient to record the date with current time\n",
    "LOGDIR = './tmp/cross_entroy/frozenlake/' + current_time + '/' \n",
    "writer = tf.summary.create_file_writer(LOGDIR) # tf 2.0 has changed the modules of tensorboard\n",
    "for iter_no, batch in enumerate(iterate_batches(env, net, BATCH_SIZE)):\n",
    "    obs_v, acts_v, reward_b, reward_m = filter_batch(batch, PERCENTILE)\n",
    "    optimizer.zero_grad()\n",
    "    action_scores_v = net(obs_v)\n",
    "    loss_v = objective(action_scores_v, acts_v)\n",
    "    loss_v.backward()\n",
    "    optimizer.step()\n",
    "    if iter_no%50 == 0: # prevent printing too many iter result \n",
    "        print(\"%d: loss=%.3f, reward_mean=%.1f, reward_bound=%.1f\" % (\n",
    "            iter_no, loss_v.item(), reward_m, reward_b))\n",
    "    with writer.as_default():\n",
    "        tf.summary.scalar(\"loss\", loss_v.item(), iter_no)\n",
    "        tf.summary.scalar(\"reward_bound\", reward_b, iter_no)\n",
    "        tf.summary.scalar(\"reward_mean\", reward_m, iter_no)\n",
    "    if reward_m > 0.8:\n",
    "        print(\"Solved!\")\n",
    "        break\n",
    "    if iter_no > 500: \n",
    "        # this naive agent can't solve the problem. percentile selection is not comparable with the frozen lake returns.\n",
    "        break"
   ]
  },
  {
   "cell_type": "markdown",
   "metadata": {},
   "source": [
    "## Frozen lake, tweaked agent"
   ]
  },
  {
   "cell_type": "code",
   "execution_count": 16,
   "metadata": {},
   "outputs": [],
   "source": [
    "import random"
   ]
  },
  {
   "cell_type": "code",
   "execution_count": 17,
   "metadata": {},
   "outputs": [],
   "source": [
    "# set hyperparameter\n",
    "HIDDEN_SIZE = 128\n",
    "BATCH_SIZE = 100\n",
    "PERCENTILE = 30\n",
    "GAMMA = 0.9"
   ]
  },
  {
   "cell_type": "code",
   "execution_count": 18,
   "metadata": {},
   "outputs": [],
   "source": [
    "# other variables and function same with above\n",
    "def filter_batch(batch, percentile):\n",
    "    disc_rewards = list(map(lambda s: s.reward * (GAMMA ** len(s.steps)), batch))\n",
    "    reward_bound = np.percentile(disc_rewards, percentile)\n",
    "\n",
    "    train_obs = []\n",
    "    train_act = []\n",
    "    elite_batch = []\n",
    "    for example, discounted_reward in zip(batch, disc_rewards):\n",
    "        if discounted_reward > reward_bound:\n",
    "            train_obs.extend(map(lambda step: step.observation, example.steps))\n",
    "            train_act.extend(map(lambda step: step.action, example.steps))\n",
    "            elite_batch.append(example)\n",
    "\n",
    "    return elite_batch, train_obs, train_act, reward_bound"
   ]
  },
  {
   "cell_type": "code",
   "execution_count": 19,
   "metadata": {},
   "outputs": [],
   "source": [
    "random.seed(12345)\n",
    "env = DiscreteOneHotWrapper(gym.make(\"FrozenLake-v0\"))\n",
    "# env = gym.wrappers.Monitor(env, directory=\"mon\", force=True)\n",
    "obs_size = env.observation_space.shape[0]\n",
    "n_actions = env.action_space.n"
   ]
  },
  {
   "cell_type": "code",
   "execution_count": 20,
   "metadata": {},
   "outputs": [
    {
     "name": "stdout",
     "output_type": "stream",
     "text": [
      "0: loss=1.397, reward_mean=0.0, reward_bound=0.0\n",
      "500: loss=1.027, reward_mean=0.1, reward_bound=0.4\n",
      "1000: loss=0.904, reward_mean=0.1, reward_bound=0.4\n"
     ]
    }
   ],
   "source": [
    "net = Net(obs_size, HIDDEN_SIZE, n_actions)\n",
    "objective = nn.CrossEntropyLoss()\n",
    "optimizer = optim.Adam(params=net.parameters(), lr=0.001)\n",
    "current_time = datetime.datetime.now().strftime(\"%Y%m%d-%H%M%S\") # it's convenient to record the date with current time\n",
    "LOGDIR = './tmp/cross_entroy/frozenlake_tweaked/' + current_time + '/' \n",
    "writer = tf.summary.create_file_writer(LOGDIR) # tf 2.0 has changed the modules of tensorboard\n",
    "full_batch = []\n",
    "for iter_no, batch in enumerate(iterate_batches(env, net, BATCH_SIZE)):\n",
    "    reward_mean = float(np.mean(list(map(lambda s: s.reward, batch))))\n",
    "    full_batch, obs, acts, reward_bound = filter_batch(full_batch + batch, PERCENTILE)\n",
    "    if not full_batch:\n",
    "        continue\n",
    "    obs_v = torch.FloatTensor(obs)\n",
    "    acts_v = torch.LongTensor(acts)\n",
    "    full_batch = full_batch[-500:]\n",
    "\n",
    "    optimizer.zero_grad()\n",
    "    action_scores_v = net(obs_v)\n",
    "    loss_v = objective(action_scores_v, acts_v)\n",
    "    loss_v.backward()\n",
    "    optimizer.step()\n",
    "    if iter_no%500 == 0: # prevent printing too many iter result \n",
    "        print(\"%d: loss=%.3f, reward_mean=%.1f, reward_bound=%.1f\" % (\n",
    "            iter_no, loss_v.item(), reward_mean, reward_bound))\n",
    "    if iter_no%25 == 0: # making faster.\n",
    "        with writer.as_default():\n",
    "            tf.summary.scalar(\"loss\", loss_v.item(), iter_no)\n",
    "            tf.summary.scalar(\"reward_bound\", reward_bound, iter_no)\n",
    "            tf.summary.scalar(\"reward_mean\", reward_mean, iter_no)\n",
    "    if reward_mean > 0.8:\n",
    "        print(\"Solved!\")\n",
    "        break\n",
    "    if iter_no > 1000: \n",
    "        #if the agent cann't solve the problem, break.\n",
    "        break"
   ]
  },
  {
   "cell_type": "markdown",
   "metadata": {},
   "source": [
    "## Frozen lake, nonslippery environment\n",
    "\n",
    "* almost same hyperparameter, function and so on."
   ]
  },
  {
   "cell_type": "code",
   "execution_count": 45,
   "metadata": {},
   "outputs": [],
   "source": [
    "random.seed(12345)\n",
    "env = gym.envs.toy_text.frozen_lake.FrozenLakeEnv(is_slippery=False)\n",
    "env = gym.wrappers.TimeLimit(env, max_episode_steps=100)\n",
    "env = DiscreteOneHotWrapper(env)\n",
    "# env = gym.wrappers.Monitor(env, directory=\"mon\", force=True)\n",
    "obs_size = env.observation_space.shape[0]\n",
    "n_actions = env.action_space.n"
   ]
  },
  {
   "cell_type": "code",
   "execution_count": 47,
   "metadata": {},
   "outputs": [
    {
     "name": "stdout",
     "output_type": "stream",
     "text": [
      "0: loss=1.348, reward_mean=0.0, reward_bound=0.0\n",
      "10: loss=1.305, reward_mean=0.0, reward_bound=0.0\n",
      "20: loss=1.246, reward_mean=0.1, reward_bound=0.0\n",
      "30: loss=1.199, reward_mean=0.1, reward_bound=0.0\n",
      "40: loss=1.087, reward_mean=0.1, reward_bound=0.2\n",
      "50: loss=0.934, reward_mean=0.2, reward_bound=0.3\n",
      "60: loss=0.801, reward_mean=0.2, reward_bound=0.3\n",
      "70: loss=0.555, reward_mean=0.4, reward_bound=0.5\n",
      "80: loss=0.605, reward_mean=0.5, reward_bound=0.4\n",
      "90: loss=0.453, reward_mean=0.5, reward_bound=0.4\n",
      "100: loss=0.502, reward_mean=0.7, reward_bound=0.4\n",
      "110: loss=0.434, reward_mean=0.7, reward_bound=0.4\n",
      "Solved!\n"
     ]
    }
   ],
   "source": [
    "net = Net(obs_size, HIDDEN_SIZE, n_actions)\n",
    "objective = nn.CrossEntropyLoss()\n",
    "optimizer = optim.Adam(params=net.parameters(), lr=0.001)\n",
    "current_time = datetime.datetime.now().strftime(\"%Y%m%d-%H%M%S\") # it's convenient to record the date with current time\n",
    "LOGDIR = './tmp/cross_entroy/frozenlake_tweaked/' + current_time + '/' \n",
    "writer = tf.summary.create_file_writer(LOGDIR) # tf 2.0 has changed the modules of tensorboard\n",
    "full_batch = []\n",
    "for iter_no, batch in enumerate(iterate_batches(env, net, BATCH_SIZE)):\n",
    "    reward_mean = float(np.mean(list(map(lambda s: s.reward, batch))))\n",
    "    full_batch, obs, acts, reward_bound = filter_batch(full_batch + batch, PERCENTILE)\n",
    "    if not full_batch:\n",
    "        continue\n",
    "    obs_v = torch.FloatTensor(obs)\n",
    "    acts_v = torch.LongTensor(acts)\n",
    "    full_batch = full_batch[-500:]\n",
    "\n",
    "    optimizer.zero_grad()\n",
    "    action_scores_v = net(obs_v)\n",
    "    loss_v = objective(action_scores_v, acts_v)\n",
    "    loss_v.backward()\n",
    "    optimizer.step()\n",
    "    if iter_no%10 == 0: # prevent printing too many iter result \n",
    "        print(\"%d: loss=%.3f, reward_mean=%.1f, reward_bound=%.1f\" % (\n",
    "            iter_no, loss_v.item(), reward_mean, reward_bound))\n",
    "    with writer.as_default():\n",
    "        tf.summary.scalar(\"loss\", loss_v.item(), iter_no)\n",
    "        tf.summary.scalar(\"reward_bound\", reward_bound, iter_no)\n",
    "        tf.summary.scalar(\"reward_mean\", reward_mean, iter_no)\n",
    "    if reward_mean > 0.8:\n",
    "        print(\"Solved!\")\n",
    "        break\n",
    "    if iter_no > 1000: \n",
    "        #if the agent cann't solve the problem, break.\n",
    "        break"
   ]
  }
 ],
 "metadata": {
  "kernelspec": {
   "display_name": "Python 3",
   "language": "python",
   "name": "python3"
  },
  "language_info": {
   "codemirror_mode": {
    "name": "ipython",
    "version": 3
   },
   "file_extension": ".py",
   "mimetype": "text/x-python",
   "name": "python",
   "nbconvert_exporter": "python",
   "pygments_lexer": "ipython3",
   "version": "3.7.3"
  }
 },
 "nbformat": 4,
 "nbformat_minor": 4
}
