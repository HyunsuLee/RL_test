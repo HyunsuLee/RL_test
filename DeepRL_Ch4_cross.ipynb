{
 "cells": [
  {
   "cell_type": "markdown",
   "metadata": {},
   "source": [
    "# Deep RL hands-on by Maxim Lapan\n",
    "## Chapter 4 The Corss-Entropy Method\n",
    "\n",
    "* conda activate gym \n",
    " \n",
    "### Method step\n",
    "\n",
    "1. Play N number of episodes using our current model and environment.\n",
    "1. Calculate the total reward for every episode and decide on a reward boundary. Usually, we use some percentile of all rewards, such as 50th or 70th.\n",
    "1. Throw away all episodes with a reward below the boundary.\n",
    "1. Train on the remaining \"elite\" episodes using obervations as the input and issued actions as the desired outtput.\n",
    "1. Repeat from step 1 until we become satisfied with the result.\n",
    "\n",
    "## Cart pole"
   ]
  },
  {
   "cell_type": "code",
   "execution_count": 116,
   "metadata": {},
   "outputs": [],
   "source": [
    "import gym\n",
    "from collections import namedtuple\n",
    "import numpy as np\n",
    "import tensorflow as tf\n",
    "\n",
    "import torch\n",
    "import torch.nn as nn\n",
    "import torch.optim as optim\n",
    "import datetime"
   ]
  },
  {
   "cell_type": "code",
   "execution_count": 117,
   "metadata": {},
   "outputs": [],
   "source": [
    "# set hyperparameters\n",
    "HIDDEN_SIZE = 128\n",
    "BATCH_SIZE = 16\n",
    "PERCENTILE = 70"
   ]
  },
  {
   "cell_type": "code",
   "execution_count": 118,
   "metadata": {},
   "outputs": [],
   "source": [
    "# set basic neural net module with FC layer and ReLU\n",
    "class Net(nn.Module):\n",
    "    def __init__(self, obs_size, hidden_size, n_actions):\n",
    "        super(Net, self).__init__()\n",
    "        self.net = nn.Sequential(\n",
    "            nn.Linear(obs_size, hidden_size),\n",
    "            nn.ReLU(),\n",
    "            nn.Linear(hidden_size, n_actions)\n",
    "        )\n",
    "\n",
    "    def forward(self, x):\n",
    "        return self.net(x)\n"
   ]
  },
  {
   "cell_type": "code",
   "execution_count": 119,
   "metadata": {},
   "outputs": [],
   "source": [
    "Episode = namedtuple('Episode', field_names=['reward', 'steps'])\n",
    "EpisodeStep = namedtuple('EpisodeStep', field_names=['observation', 'action'])"
   ]
  },
  {
   "cell_type": "code",
   "execution_count": 120,
   "metadata": {},
   "outputs": [],
   "source": [
    "def iterate_batches(env, net, batch_size):\n",
    "    batch = []\n",
    "    episode_reward = 0.0\n",
    "    episode_steps = []\n",
    "    obs = env.reset()\n",
    "    sm = nn.Softmax(dim=0) # below the input obs has no [], I use dim=0 instead of dim=1 in the original code\n",
    "    while True:\n",
    "        obs_v = torch.FloatTensor(obs) # original code use [obs], but I deleted it. \n",
    "        # If you use [obs], the output data will be also embraced with [], like [[0.9, 0.1]]\n",
    "        act_probs_v = sm(net(obs_v))\n",
    "        act_probs = act_probs_v.data.numpy() # I deleted [0], there is no additional dimension in the output.\n",
    "        action = np.random.choice(len(act_probs), p=act_probs)\n",
    "        next_obs, reward, is_done, _ = env.step(action)\n",
    "        episode_reward += reward\n",
    "        episode_steps.append(EpisodeStep(observation=obs, action=action))\n",
    "        if is_done:\n",
    "            batch.append(Episode(reward=episode_reward, steps=episode_steps))\n",
    "            episode_reward = 0.0\n",
    "            episode_steps = []\n",
    "            next_obs = env.reset()\n",
    "            if len(batch) == batch_size:\n",
    "                yield batch\n",
    "                batch = []\n",
    "        obs = next_obs"
   ]
  },
  {
   "cell_type": "code",
   "execution_count": 121,
   "metadata": {},
   "outputs": [],
   "source": [
    "def filter_batch(batch, percentile):\n",
    "    rewards = list(map(lambda s: s.reward, batch))\n",
    "    reward_bound = np.percentile(rewards, percentile)\n",
    "    reward_mean = float(np.mean(rewards))\n",
    "\n",
    "    train_obs = []\n",
    "    train_act = []\n",
    "    for example in batch:\n",
    "        if example.reward < reward_bound:\n",
    "            continue # forward to next iter.\n",
    "        train_obs.extend(map(lambda step: step.observation, example.steps))\n",
    "        train_act.extend(map(lambda step: step.action, example.steps))\n",
    "\n",
    "    train_obs_v = torch.FloatTensor(train_obs)\n",
    "    train_act_v = torch.LongTensor(train_act)\n",
    "    return train_obs_v, train_act_v, reward_bound, reward_mean"
   ]
  },
  {
   "cell_type": "code",
   "execution_count": 130,
   "metadata": {},
   "outputs": [],
   "source": [
    "env = gym.make(\"CartPole-v0\")\n",
    "# env = gym.wrappers.Monitor(env, directory=\"recording1_cartpole_cross\", force=True) # if you wanna record the video\n",
    "obs_size = env.observation_space.shape[0]\n",
    "n_actions = env.action_space.n\n",
    "\n",
    "net = Net(obs_size, HIDDEN_SIZE, n_actions)\n",
    "objective = nn.CrossEntropyLoss()\n",
    "optimizer = optim.Adam(params=net.parameters(), lr=0.01)"
   ]
  },
  {
   "cell_type": "code",
   "execution_count": 131,
   "metadata": {},
   "outputs": [
    {
     "name": "stdout",
     "output_type": "stream",
     "text": [
      "0: loss=0.671, reward_mean=23.9, reward_bound=29.5\n",
      "1: loss=0.676, reward_mean=21.4, reward_bound=25.5\n",
      "2: loss=0.661, reward_mean=24.4, reward_bound=23.5\n",
      "3: loss=0.657, reward_mean=31.8, reward_bound=38.5\n",
      "4: loss=0.625, reward_mean=65.4, reward_bound=79.0\n",
      "5: loss=0.618, reward_mean=39.1, reward_bound=44.5\n",
      "6: loss=0.601, reward_mean=63.2, reward_bound=73.0\n",
      "7: loss=0.602, reward_mean=53.9, reward_bound=64.5\n",
      "8: loss=0.593, reward_mean=50.6, reward_bound=58.5\n",
      "9: loss=0.582, reward_mean=68.9, reward_bound=75.0\n",
      "10: loss=0.570, reward_mean=63.0, reward_bound=72.0\n",
      "11: loss=0.570, reward_mean=70.9, reward_bound=83.0\n",
      "12: loss=0.567, reward_mean=74.7, reward_bound=88.0\n",
      "13: loss=0.543, reward_mean=80.4, reward_bound=85.0\n",
      "14: loss=0.557, reward_mean=71.8, reward_bound=78.0\n",
      "15: loss=0.546, reward_mean=86.7, reward_bound=95.0\n",
      "16: loss=0.535, reward_mean=93.6, reward_bound=116.0\n",
      "17: loss=0.528, reward_mean=91.1, reward_bound=101.5\n",
      "18: loss=0.549, reward_mean=97.2, reward_bound=104.0\n",
      "19: loss=0.555, reward_mean=107.8, reward_bound=119.0\n",
      "20: loss=0.531, reward_mean=125.9, reward_bound=147.0\n",
      "21: loss=0.571, reward_mean=142.0, reward_bound=156.0\n",
      "22: loss=0.533, reward_mean=151.1, reward_bound=180.5\n",
      "23: loss=0.531, reward_mean=173.4, reward_bound=198.5\n",
      "24: loss=0.542, reward_mean=185.9, reward_bound=200.0\n",
      "25: loss=0.539, reward_mean=168.9, reward_bound=200.0\n",
      "26: loss=0.532, reward_mean=180.7, reward_bound=200.0\n",
      "27: loss=0.545, reward_mean=182.6, reward_bound=200.0\n",
      "28: loss=0.535, reward_mean=190.0, reward_bound=200.0\n",
      "29: loss=0.552, reward_mean=185.9, reward_bound=200.0\n",
      "30: loss=0.536, reward_mean=186.6, reward_bound=200.0\n",
      "31: loss=0.547, reward_mean=190.4, reward_bound=200.0\n",
      "32: loss=0.536, reward_mean=199.6, reward_bound=200.0\n",
      "Solved!\n"
     ]
    }
   ],
   "source": [
    "current_time = datetime.datetime.now().strftime(\"%Y%m%d-%H%M%S\") # it's convient to record the date with current time\n",
    "LOGDIR = './tmp/cross_entroy/cartpole/' + current_time + '/' \n",
    "writer = tf.summary.create_file_writer(LOGDIR) # tf 2.0 has changed the modules of tensorboard\n",
    "for iter_no, batch in enumerate(iterate_batches(env, net, BATCH_SIZE)):\n",
    "    obs_v, acts_v, reward_b, reward_m = filter_batch(batch, PERCENTILE)\n",
    "    optimizer.zero_grad()\n",
    "    action_scores_v = net(obs_v)\n",
    "    loss_v = objective(action_scores_v, acts_v)\n",
    "    loss_v.backward()\n",
    "    optimizer.step()\n",
    "    print(\"%d: loss=%.3f, reward_mean=%.1f, reward_bound=%.1f\" % (\n",
    "        iter_no, loss_v.item(), reward_m, reward_b))\n",
    "    with writer.as_default():\n",
    "        tf.summary.scalar(\"loss\", loss_v.item(), iter_no)\n",
    "        tf.summary.scalar(\"reward_bound\", reward_b, iter_no)\n",
    "        tf.summary.scalar(\"reward_mean\", reward_m, iter_no)\n",
    "    if reward_m > 199:\n",
    "        print(\"Solved!\")\n",
    "        break"
   ]
  },
  {
   "cell_type": "markdown",
   "metadata": {},
   "source": [
    "## Frozen Lake"
   ]
  },
  {
   "cell_type": "code",
   "execution_count": 124,
   "metadata": {},
   "outputs": [
    {
     "name": "stdout",
     "output_type": "stream",
     "text": [
      "Discrete(16)\n",
      "Discrete(4)\n",
      "\n",
      "\u001b[41mS\u001b[0mFFF\n",
      "FHFH\n",
      "FFFH\n",
      "HFFG\n"
     ]
    }
   ],
   "source": [
    "e = gym.make(\"FrozenLake-v0\")\n",
    "print(e.observation_space)\n",
    "print(e.action_space)\n",
    "e.reset()\n",
    "e.render()"
   ]
  },
  {
   "cell_type": "code",
   "execution_count": 125,
   "metadata": {},
   "outputs": [],
   "source": [
    "# use same hyperparameter, Net module, Episode tuple of cart pole agent\n",
    "# use same function of iterate batch and filter batch too.\n",
    "class DiscreteOneHotWrapper(gym.ObservationWrapper):\n",
    "    def __init__(self, env):\n",
    "        super(DiscreteOneHotWrapper, self).__init__(env)\n",
    "        assert isinstance(env.observation_space, gym.spaces.Discrete)\n",
    "        self.observation_space = gym.spaces.Box(0.0, 1.0, (env.observation_space.n, ), dtype=np.float32)\n",
    "\n",
    "    def observation(self, observation):\n",
    "        res = np.copy(self.observation_space.low) # return 1d array with 16 elements of zero\n",
    "        res[observation] = 1.0 # make 1.0 at the observed space in the frozen lake. \n",
    "        return res\n",
    "# because the observation space of lake is discrete, not like cart pole. "
   ]
  },
  {
   "cell_type": "code",
   "execution_count": 134,
   "metadata": {},
   "outputs": [],
   "source": [
    "env = DiscreteOneHotWrapper(gym.make(\"FrozenLake-v0\"))\n",
    "# env = gym.wrappers.Monitor(env, directory=\"mon\", force=True)\n",
    "obs_size = env.observation_space.shape[0]\n",
    "n_actions = env.action_space.n"
   ]
  },
  {
   "cell_type": "code",
   "execution_count": 136,
   "metadata": {},
   "outputs": [],
   "source": [
    "net = Net(obs_size, HIDDEN_SIZE, n_actions)\n",
    "objective = nn.CrossEntropyLoss()\n",
    "optimizer = optim.Adam(params=net.parameters(), lr=0.01)"
   ]
  },
  {
   "cell_type": "code",
   "execution_count": 137,
   "metadata": {},
   "outputs": [
    {
     "name": "stdout",
     "output_type": "stream",
     "text": [
      "0: loss=1.383, reward_mean=0.1, reward_bound=0.0\n",
      "50: loss=0.652, reward_mean=0.0, reward_bound=0.0\n",
      "100: loss=0.355, reward_mean=0.0, reward_bound=0.0\n",
      "150: loss=0.495, reward_mean=0.0, reward_bound=0.0\n",
      "200: loss=0.263, reward_mean=0.0, reward_bound=0.0\n",
      "250: loss=0.398, reward_mean=0.0, reward_bound=0.0\n",
      "300: loss=0.074, reward_mean=0.0, reward_bound=0.0\n",
      "350: loss=0.291, reward_mean=0.1, reward_bound=0.0\n",
      "400: loss=0.204, reward_mean=0.0, reward_bound=0.0\n",
      "450: loss=0.187, reward_mean=0.1, reward_bound=0.0\n",
      "500: loss=0.119, reward_mean=0.1, reward_bound=0.0\n"
     ]
    }
   ],
   "source": [
    "current_time = datetime.datetime.now().strftime(\"%Y%m%d-%H%M%S\") # it's convient to record the date with current time\n",
    "LOGDIR = './tmp/cross_entroy/frozenlake/' + current_time + '/' \n",
    "writer = tf.summary.create_file_writer(LOGDIR) # tf 2.0 has changed the modules of tensorboard\n",
    "for iter_no, batch in enumerate(iterate_batches(env, net, BATCH_SIZE)):\n",
    "    obs_v, acts_v, reward_b, reward_m = filter_batch(batch, PERCENTILE)\n",
    "    optimizer.zero_grad()\n",
    "    action_scores_v = net(obs_v)\n",
    "    loss_v = objective(action_scores_v, acts_v)\n",
    "    loss_v.backward()\n",
    "    optimizer.step()\n",
    "    if iter_no%50 == 0: # prevent printing too many iter result \n",
    "        print(\"%d: loss=%.3f, reward_mean=%.1f, reward_bound=%.1f\" % (\n",
    "            iter_no, loss_v.item(), reward_m, reward_b))\n",
    "    with writer.as_default():\n",
    "        tf.summary.scalar(\"loss\", loss_v.item(), iter_no)\n",
    "        tf.summary.scalar(\"reward_bound\", reward_b, iter_no)\n",
    "        tf.summary.scalar(\"reward_mean\", reward_m, iter_no)\n",
    "    if reward_m > 0.8:\n",
    "        print(\"Solved!\")\n",
    "        break\n",
    "    if iter_no > 500: # this naive agent can't solve the problem. percentile selection is not comparable with the frozen lake returns.\n",
    "        break"
   ]
  },
  {
   "cell_type": "code",
   "execution_count": null,
   "metadata": {},
   "outputs": [],
   "source": []
  }
 ],
 "metadata": {
  "kernelspec": {
   "display_name": "Python 3",
   "language": "python",
   "name": "python3"
  },
  "language_info": {
   "codemirror_mode": {
    "name": "ipython",
    "version": 3
   },
   "file_extension": ".py",
   "mimetype": "text/x-python",
   "name": "python",
   "nbconvert_exporter": "python",
   "pygments_lexer": "ipython3",
   "version": "3.7.3"
  }
 },
 "nbformat": 4,
 "nbformat_minor": 4
}
